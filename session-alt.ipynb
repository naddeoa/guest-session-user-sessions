{
 "cells": [
  {
   "attachments": {},
   "cell_type": "markdown",
   "metadata": {},
   "source": [
    "# Alternate profiling/uploading api style\n",
    " "
   ]
  },
  {
   "attachments": {},
   "cell_type": "markdown",
   "metadata": {},
   "source": [
    "<a target=\"_blank\" href=\"https://colab.research.google.com/github/naddeoa/guest-session-user-sessions/blob/master/session-alt.ipynb\">\n",
    "  <img src=\"https://colab.research.google.com/assets/colab-badge.svg\" alt=\"Open In Colab\"/>\n",
    "</a>"
   ]
  },
  {
   "cell_type": "code",
   "execution_count": null,
   "metadata": {},
   "outputs": [],
   "source": [
    "%pip install whylogs==1.1.41.dev0\n"
   ]
  },
  {
   "cell_type": "code",
   "execution_count": null,
   "metadata": {},
   "outputs": [],
   "source": [
    "import whylogs as why\n",
    "import pandas as pd\n",
    "\n",
    "why.init(anonymous=True)"
   ]
  },
  {
   "cell_type": "code",
   "execution_count": null,
   "metadata": {},
   "outputs": [],
   "source": [
    "data = pd.read_csv(\"https://guest-session-testing-public.s3.us-west-2.amazonaws.com/adult.csv\")\n",
    "data"
   ]
  },
  {
   "cell_type": "code",
   "execution_count": null,
   "metadata": {},
   "outputs": [],
   "source": [
    "why.log(data)\n",
    "    .writer('whylabs')\n",
    "    .write(reference=\"adult income data\")"
   ]
  },
  {
   "cell_type": "code",
   "execution_count": null,
   "metadata": {},
   "outputs": [],
   "source": [
    "average_age = data.loc[:, 'age'].mean()\n",
    "average_age "
   ]
  },
  {
   "cell_type": "code",
   "execution_count": null,
   "metadata": {},
   "outputs": [],
   "source": [
    "hs_grads = data[data['education'] == 'HS-grad']\n",
    "higher_ed = data[data['education'] != 'HS-grad']\n",
    "\n",
    "older = data[data['age'] >= average_age]\n",
    "younger = data[data['age'] < average_age]\n",
    "\n",
    "writer = why.writer('whylabs')\n",
    "writer.write(references={\n",
    "    \"older\": why.log(older),\n",
    "    \"younger\": why.log(younger)\n",
    "})"
   ]
  }
 ],
 "metadata": {
  "interpreter": {
   "hash": "498e653baf04937463e348bd994b2947df7aeb22ca9551fbd507161022670ceb"
  },
  "kernelspec": {
   "display_name": "Python 3",
   "language": "python",
   "name": "python3"
  },
  "language_info": {
   "codemirror_mode": {
    "name": "ipython",
    "version": 3
   },
   "file_extension": ".py",
   "mimetype": "text/x-python",
   "name": "python",
   "nbconvert_exporter": "python",
   "pygments_lexer": "ipython3",
   "version": "3.10.11"
  }
 },
 "nbformat": 4,
 "nbformat_minor": 2
}
